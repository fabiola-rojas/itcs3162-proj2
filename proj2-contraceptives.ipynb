{
 "cells": [
  {
   "cell_type": "markdown",
   "id": "6a3ea41c-4caa-4688-bcb3-37996212b11f",
   "metadata": {},
   "source": [
    "# <span style=\"color: hotpink\">Project 1: Classification\n",
    "### <span style=\"color: hotpink\">Fabiola Rojas</span>\n",
    "---"
   ]
  },
  {
   "cell_type": "markdown",
   "id": "f20948f9-3c59-4916-97f4-8f8fec28b8f4",
   "metadata": {},
   "source": [
    "### <span style=\"color: hotpink\">The Problem</span> \n",
    "Family planning plays a crucial role in public health and economic stability, yet contraceptive use varies significantly based on demographic and socioeconomic factors. Understanding what influences contraceptive choices can help policymakers and healthcare providers develop better strategies for reproductive health education and access.\n",
    "\n",
    "I aim to build a classification model that predicts a woman's contraceptive method choice based on various factors such as education, employment status, and standard of living. I will use the following questions to help uncover insights about the dataset: \n",
    "\n",
    "- What is the most common contraceptive method?\n",
    "- How are the socioeconomic features distributed?\n",
    "- Does a husband's education and occupation affect their wife's contraceptive method choice?\n",
    "- What are the differences in contraceptive methods based on demographics and socioeconomic factors?\n",
    "- What combinations of factors are most likely to lead to certain choice of contraceptive method? (For example, low education and low standard of living.)\n",
    "\n",
    "The insights gained from this analysis could help improve family planning policies by identifying key socioeconomic barriers to contraceptive use.\n",
    "\n",
    "---"
   ]
  },
  {
   "cell_type": "markdown",
   "id": "8d84a455-a34b-4126-baeb-fa6a25b2d407",
   "metadata": {},
   "source": [
    "### <span style=\"color: hotpink\">The Data</span> \n",
    "The [dataset](https://archive.ics.uci.edu/dataset/30/contraceptive+method+choice) is a subset of the 1987 National Indonesia Contraceptive Prevalence Survey. It consists of records of married women who were either not pregnant or were unsure of their pregnancy status at the time of the interview. The dataset contains 10 variables that capture demographic and socioeconomic characteristics of the women surveyed, including their age, education level, number of children, religious affiliation, employment status, and exposure to media.\n",
    "\n",
    "The target variable, contraceptive_method, has three categories: \n",
    "- 1 = No-use (The woman does not use any contraceptive method)\n",
    "- 2 = Long-term method (e.g., IUD, sterilization)\n",
    "- 3 = Short-term method (e.g., pill, condom, injection)\n",
    "  \n",
    "The categorical variables have already been encoded as numerical values, making it easier for machine learning models to process. A key aspect of this project will be understanding the relationships between these features and contraceptive choices through data visualization and classification modeling.\n",
    "\n",
    "---"
   ]
  },
  {
   "cell_type": "markdown",
   "id": "2cd4b789-06af-4cb3-86b4-2d93e7858fba",
   "metadata": {},
   "source": [
    "<span style=\"color: purple\">The dataset is not available as a csv or spreadsheet, so I will have to fetch it directly from the UCI repository."
   ]
  },
  {
   "cell_type": "code",
   "execution_count": 5,
   "id": "78978d92-742a-4b30-9d35-e695238ac565",
   "metadata": {},
   "outputs": [],
   "source": [
    "#pip install ucimlrepo"
   ]
  },
  {
   "cell_type": "code",
   "execution_count": 6,
   "id": "fbfddae9-2ced-42c3-ba29-9285fe21df78",
   "metadata": {},
   "outputs": [],
   "source": [
    "from ucimlrepo import fetch_ucirepo \n",
    "  \n",
    "# fetch dataset from UC Irvine Machine Learning Repository\n",
    "contraceptive_method_choice = fetch_ucirepo(id=30) \n",
    "  \n",
    "# data as pandas dataframes \n",
    "X = contraceptive_method_choice.data.features \n",
    "y = contraceptive_method_choice.data.targets \n"
   ]
  },
  {
   "cell_type": "markdown",
   "id": "7de1163b-12c4-411d-8891-061ad355dce9",
   "metadata": {},
   "source": [
    "<span style=\"color: purple\">Now I can work with it as a pandas dataframe."
   ]
  },
  {
   "cell_type": "code",
   "execution_count": 8,
   "id": "fea78235-b4c3-4981-a729-d7a1ea7a6138",
   "metadata": {},
   "outputs": [
    {
     "data": {
      "text/html": [
       "<div>\n",
       "<style scoped>\n",
       "    .dataframe tbody tr th:only-of-type {\n",
       "        vertical-align: middle;\n",
       "    }\n",
       "\n",
       "    .dataframe tbody tr th {\n",
       "        vertical-align: top;\n",
       "    }\n",
       "\n",
       "    .dataframe thead th {\n",
       "        text-align: right;\n",
       "    }\n",
       "</style>\n",
       "<table border=\"1\" class=\"dataframe\">\n",
       "  <thead>\n",
       "    <tr style=\"text-align: right;\">\n",
       "      <th></th>\n",
       "      <th>wife_age</th>\n",
       "      <th>wife_edu</th>\n",
       "      <th>husband_edu</th>\n",
       "      <th>num_children</th>\n",
       "      <th>wife_religion</th>\n",
       "      <th>wife_working</th>\n",
       "      <th>husband_occupation</th>\n",
       "      <th>standard_of_living_index</th>\n",
       "      <th>media_exposure</th>\n",
       "      <th>contraceptive_method</th>\n",
       "    </tr>\n",
       "  </thead>\n",
       "  <tbody>\n",
       "    <tr>\n",
       "      <th>0</th>\n",
       "      <td>24</td>\n",
       "      <td>2</td>\n",
       "      <td>3</td>\n",
       "      <td>3</td>\n",
       "      <td>1</td>\n",
       "      <td>1</td>\n",
       "      <td>2</td>\n",
       "      <td>3</td>\n",
       "      <td>0</td>\n",
       "      <td>1</td>\n",
       "    </tr>\n",
       "    <tr>\n",
       "      <th>1</th>\n",
       "      <td>45</td>\n",
       "      <td>1</td>\n",
       "      <td>3</td>\n",
       "      <td>10</td>\n",
       "      <td>1</td>\n",
       "      <td>1</td>\n",
       "      <td>3</td>\n",
       "      <td>4</td>\n",
       "      <td>0</td>\n",
       "      <td>1</td>\n",
       "    </tr>\n",
       "    <tr>\n",
       "      <th>2</th>\n",
       "      <td>43</td>\n",
       "      <td>2</td>\n",
       "      <td>3</td>\n",
       "      <td>7</td>\n",
       "      <td>1</td>\n",
       "      <td>1</td>\n",
       "      <td>3</td>\n",
       "      <td>4</td>\n",
       "      <td>0</td>\n",
       "      <td>1</td>\n",
       "    </tr>\n",
       "    <tr>\n",
       "      <th>3</th>\n",
       "      <td>42</td>\n",
       "      <td>3</td>\n",
       "      <td>2</td>\n",
       "      <td>9</td>\n",
       "      <td>1</td>\n",
       "      <td>1</td>\n",
       "      <td>3</td>\n",
       "      <td>3</td>\n",
       "      <td>0</td>\n",
       "      <td>1</td>\n",
       "    </tr>\n",
       "    <tr>\n",
       "      <th>4</th>\n",
       "      <td>36</td>\n",
       "      <td>3</td>\n",
       "      <td>3</td>\n",
       "      <td>8</td>\n",
       "      <td>1</td>\n",
       "      <td>1</td>\n",
       "      <td>3</td>\n",
       "      <td>2</td>\n",
       "      <td>0</td>\n",
       "      <td>1</td>\n",
       "    </tr>\n",
       "  </tbody>\n",
       "</table>\n",
       "</div>"
      ],
      "text/plain": [
       "   wife_age  wife_edu  husband_edu  num_children  wife_religion  wife_working  \\\n",
       "0        24         2            3             3              1             1   \n",
       "1        45         1            3            10              1             1   \n",
       "2        43         2            3             7              1             1   \n",
       "3        42         3            2             9              1             1   \n",
       "4        36         3            3             8              1             1   \n",
       "\n",
       "   husband_occupation  standard_of_living_index  media_exposure  \\\n",
       "0                   2                         3               0   \n",
       "1                   3                         4               0   \n",
       "2                   3                         4               0   \n",
       "3                   3                         3               0   \n",
       "4                   3                         2               0   \n",
       "\n",
       "   contraceptive_method  \n",
       "0                     1  \n",
       "1                     1  \n",
       "2                     1  \n",
       "3                     1  \n",
       "4                     1  "
      ]
     },
     "execution_count": 8,
     "metadata": {},
     "output_type": "execute_result"
    }
   ],
   "source": [
    "import pandas as pd\n",
    "\n",
    "df = pd.concat([X, y], axis=1)\n",
    "\n",
    "df.head()"
   ]
  },
  {
   "cell_type": "code",
   "execution_count": 9,
   "id": "f28b4222-41b8-4d41-8a51-56d3292b7e0c",
   "metadata": {},
   "outputs": [
    {
     "data": {
      "text/plain": [
       "(1473, 10)"
      ]
     },
     "execution_count": 9,
     "metadata": {},
     "output_type": "execute_result"
    }
   ],
   "source": [
    "df.shape"
   ]
  },
  {
   "cell_type": "code",
   "execution_count": 10,
   "id": "282cd25d-81d0-40ba-b71f-3bfb10247519",
   "metadata": {},
   "outputs": [
    {
     "data": {
      "text/plain": [
       "Index(['wife_age', 'wife_edu', 'husband_edu', 'num_children', 'wife_religion',\n",
       "       'wife_working', 'husband_occupation', 'standard_of_living_index',\n",
       "       'media_exposure', 'contraceptive_method'],\n",
       "      dtype='object')"
      ]
     },
     "execution_count": 10,
     "metadata": {},
     "output_type": "execute_result"
    }
   ],
   "source": [
    "df.columns"
   ]
  },
  {
   "cell_type": "markdown",
   "id": "23eae0ba-3bc3-4a1e-a48e-62dd26a2f529",
   "metadata": {},
   "source": [
    "<span style=\"color: purple\">I'm going ahead and creating lists storing the categorical and numerical columns separately for when I visualize them later on."
   ]
  },
  {
   "cell_type": "code",
   "execution_count": 12,
   "id": "53c473fd-d8ce-4f92-9c80-953872a567e3",
   "metadata": {},
   "outputs": [],
   "source": [
    "cat_cols = ['wife_edu', 'husband_edu', 'wife_religion', 'wife_working', \n",
    "            'husband_occupation', 'standard_of_living_index', 'media_exposure',  \n",
    "            'contraceptive_method']\n",
    "\n",
    "num_cols = ['wife_age', 'num_children']"
   ]
  },
  {
   "cell_type": "markdown",
   "id": "7d1302bc-fbe4-4250-8e67-c45c12a5e653",
   "metadata": {},
   "source": [
    "<span style=\"color: purple\">The dataset information on the UCI site says there are no missing values but I am going to check just in case. I'll also confirm that the data types are all integers, and that the categorical columns only contain the expected values (0-4)."
   ]
  },
  {
   "cell_type": "code",
   "execution_count": 14,
   "id": "ea606506-5ed5-4098-a22f-db74d05fd2a7",
   "metadata": {},
   "outputs": [
    {
     "data": {
      "text/plain": [
       "wife_age                    0\n",
       "wife_edu                    0\n",
       "husband_edu                 0\n",
       "num_children                0\n",
       "wife_religion               0\n",
       "wife_working                0\n",
       "husband_occupation          0\n",
       "standard_of_living_index    0\n",
       "media_exposure              0\n",
       "contraceptive_method        0\n",
       "dtype: int64"
      ]
     },
     "execution_count": 14,
     "metadata": {},
     "output_type": "execute_result"
    }
   ],
   "source": [
    "df.isnull().sum()"
   ]
  },
  {
   "cell_type": "code",
   "execution_count": 15,
   "id": "71365c2c-a603-4cef-8ca4-ccaeb4cafafe",
   "metadata": {},
   "outputs": [
    {
     "data": {
      "text/plain": [
       "wife_age                    int64\n",
       "wife_edu                    int64\n",
       "husband_edu                 int64\n",
       "num_children                int64\n",
       "wife_religion               int64\n",
       "wife_working                int64\n",
       "husband_occupation          int64\n",
       "standard_of_living_index    int64\n",
       "media_exposure              int64\n",
       "contraceptive_method        int64\n",
       "dtype: object"
      ]
     },
     "execution_count": 15,
     "metadata": {},
     "output_type": "execute_result"
    }
   ],
   "source": [
    "df.dtypes"
   ]
  },
  {
   "cell_type": "markdown",
   "id": "7370180f-0658-41a2-a20a-b11a91cdbb45",
   "metadata": {},
   "source": [
    "<span style=\"color: purple\">All the values are numerical so I don't have to encode the categorical values."
   ]
  },
  {
   "cell_type": "code",
   "execution_count": 17,
   "id": "2e496fa6-77d0-4e13-9ef3-76b4a53a1b4b",
   "metadata": {},
   "outputs": [
    {
     "name": "stdout",
     "output_type": "stream",
     "text": [
      "wife_edu\n",
      "4    577\n",
      "3    410\n",
      "2    334\n",
      "1    152\n",
      "Name: count, dtype: int64\n",
      "\n",
      "husband_edu\n",
      "4    899\n",
      "3    352\n",
      "2    178\n",
      "1     44\n",
      "Name: count, dtype: int64\n",
      "\n",
      "wife_religion\n",
      "1    1253\n",
      "0     220\n",
      "Name: count, dtype: int64\n",
      "\n",
      "wife_working\n",
      "1    1104\n",
      "0     369\n",
      "Name: count, dtype: int64\n",
      "\n",
      "husband_occupation\n",
      "3    585\n",
      "1    436\n",
      "2    425\n",
      "4     27\n",
      "Name: count, dtype: int64\n",
      "\n",
      "standard_of_living_index\n",
      "4    684\n",
      "3    431\n",
      "2    229\n",
      "1    129\n",
      "Name: count, dtype: int64\n",
      "\n",
      "media_exposure\n",
      "0    1364\n",
      "1     109\n",
      "Name: count, dtype: int64\n",
      "\n",
      "contraceptive_method\n",
      "1    629\n",
      "3    511\n",
      "2    333\n",
      "Name: count, dtype: int64\n",
      "\n"
     ]
    }
   ],
   "source": [
    "for col in cat_cols:\n",
    "    print(df[col].value_counts())\n",
    "    print()"
   ]
  },
  {
   "cell_type": "code",
   "execution_count": 18,
   "id": "ac44710f-1e19-48c5-bb5e-d3ccbba9f606",
   "metadata": {},
   "outputs": [
    {
     "data": {
      "text/plain": [
       "contraceptive_method\n",
       "1    0.427020\n",
       "3    0.346911\n",
       "2    0.226069\n",
       "Name: proportion, dtype: float64"
      ]
     },
     "execution_count": 18,
     "metadata": {},
     "output_type": "execute_result"
    }
   ],
   "source": [
    "df['contraceptive_method'].value_counts(normalize=True)"
   ]
  },
  {
   "cell_type": "markdown",
   "id": "38fae414-70aa-47d4-8296-a786dc7c2139",
   "metadata": {},
   "source": [
    "<span style=\"color: purple\">Something of note is that the target classes are pretty imbalanced and may require class weights or rebalancing before we get to the modeling. Standardization or normalization may also be helpful especially for distance-based models."
   ]
  },
  {
   "cell_type": "markdown",
   "id": "33ec0f8d-7800-4d0d-ae02-4b0483be73b8",
   "metadata": {},
   "source": [
    "<span style=\"color: purple\">Everything else looks good so I won't be needing to do any more preprocessing at the moment. Here are the definitions of the class values for each of the categorical columns. (The values for husband's occupation are not explicitly defined in the dataset information.)\n",
    "\n",
    "| Class Value       | Wife's Education | Husband's Education | Wife's Religion | Wife Working | Husband's Occupation | Standard of Living Index | Media Exposure | Contraceptive Method Used |\n",
    "|------------------|-----------------|------------------|--------------|-------------|------------------|----------------------|--------------|------------------------|\n",
    "| **0**            |                 |                  | Non-Islam    | Yes         |                  |                      | Good         |                        |\n",
    "| **1**            | Low             | Low              | Islam        | No          | Category 1       | Low                  | Not good     | No-use                 |\n",
    "| **2**            |                 |                  |              |             | Category 2       |                      |              | Long-term              |\n",
    "| **3**            |                 |                  |              |             | Category 3       |                      |              | Short-term             |\n",
    "| **4**            | High            | High             |              |             | Category 4       | High                 |              |                        |\n",
    "\n",
    "---"
   ]
  },
  {
   "cell_type": "markdown",
   "id": "7a75c2a6-f007-40d8-9d33-b7aee508d641",
   "metadata": {},
   "source": [
    "## <span style=\"color: hotpink\">Data Understanding/Visualization"
   ]
  },
  {
   "cell_type": "markdown",
   "id": "4604d7e9-1687-49ab-afe4-c28853fce304",
   "metadata": {},
   "source": [
    "### <span style=\"color: hotpink\">Categorical Features"
   ]
  },
  {
   "cell_type": "code",
   "execution_count": 23,
   "id": "f5c7b759-5719-4cf0-97e3-f41b371f6a6a",
   "metadata": {},
   "outputs": [
    {
     "data": {
      "image/png": "[encoded data removed]",
      "text/plain": [
       "<Figure size 1200x800 with 8 Axes>"
      ]
     },
     "metadata": {},
     "output_type": "display_data"
    }
   ],
   "source": [
    "import matplotlib.pyplot as plt\n",
    "import seaborn as sns\n",
    "\n",
    "fig, axes = plt.subplots(2, 4, figsize=(12, 8))\n",
    "\n",
    "for ax, col in zip(axes.flatten(), cat_cols):\n",
    "    sns.countplot(x=df[col], ax=ax, hue=df[col], palette=\"Set2\", dodge=False)\n",
    "    ax.set_title(col)\n",
    "    ax.tick_params(axis='x', rotation=45) \n",
    "    if ax.get_legend() is not None:\n",
    "        ax.get_legend().remove()\n",
    "\n",
    "plt.tight_layout()\n",
    "plt.show()\n"
   ]
  },
  {
   "cell_type": "markdown",
   "id": "e3cb8210-e6ee-4341-ad28-8ac61bb6a078",
   "metadata": {},
   "source": [
    "<span style=\"color: purple\">We can learn a lot from a preliminary visualization of the features. It looks like higher education is most common among married couples with most husbands being very highly educated, but the wife is usually less educated than the husband.  \n",
    "\n",
    "<span style=\"color: purple\">Most wives are employed and even more are muslim. My brief research of Islam and birth control revealed that the Quran does not explicitly mention birth control and therefore most Islamic scholars permit it. The religion is however very family oriented, so sterilization is forbidden, but intepretations regarding abortion and birth control tend to vary. It is unlikely that religion has a strong correlation to use of birth control in this case, but it will be interesting to see what the distribution of contraceptive methods looks like for each class.  \n",
    "\n",
    "<span style=\"color: purple\">As for employment, most wives are employed, so they could be taking time to work and are not trying to get pregnant, or they could be building a family. Unemployed wives may be unemployed to take care of their children, and hopefully they are taking necessary measures to maintain financial security, but it is possible that a combination of factors leave them unable to use contraception. Most husbands fall under classes 1, 2, and 3. We don't know what these classes stand for, but it is likely that they are different types of jobs or different salary ranges. Based on the pattern in the data, group 4 probably means unemployed.  \n",
    "\n",
    "<span style=\"color: purple\">Standard of living is generally high but about a quarter of the data reflects lower living standards. I'm not sure what exactly is the measure of living standards, but it could be related to income and the physical community. As this data is a subset of a much larger dataset, it is likely this feature comes from a combination of many of the original variables, such as source of drinking water, has refrigerator, has electricity, main floor material, etc.\n",
    "\n",
    "<span style=\"color: purple\">Most of the media exposure is \"good.\" I'm not sure if this just means a high exposure to media or a positive exposure. The original dataset includes variables for listening to the radio, watching TV, and reading the newspaper, so I can assume this feature is just based on frequency of media exposure, although information gained from these different medias may be of differing values as in relation to contraception.\n",
    "\n",
    "<span style=\"color: purple\">Most women in this dataset use no contraceptive method and only about a quarter use long-term methods. We can find out what features align with women who are actively preventing pregnancy, and see if those with no contraception use are much different from these women or if it's simply due to lack of education and media exposure."
   ]
  },
  {
   "cell_type": "code",
   "execution_count": 25,
   "id": "aead2e74-49e0-465d-9f5f-3ec4f5e61aae",
   "metadata": {},
   "outputs": [
    {
     "data": {
      "text/html": [
       "<div>\n",
       "<style scoped>\n",
       "    .dataframe tbody tr th:only-of-type {\n",
       "        vertical-align: middle;\n",
       "    }\n",
       "\n",
       "    .dataframe tbody tr th {\n",
       "        vertical-align: top;\n",
       "    }\n",
       "\n",
       "    .dataframe thead th {\n",
       "        text-align: right;\n",
       "    }\n",
       "</style>\n",
       "<table border=\"1\" class=\"dataframe\">\n",
       "  <thead>\n",
       "    <tr style=\"text-align: right;\">\n",
       "      <th></th>\n",
       "      <th>wife_edu</th>\n",
       "      <th>husband_edu</th>\n",
       "      <th>wife_religion</th>\n",
       "      <th>wife_working</th>\n",
       "      <th>husband_occupation</th>\n",
       "      <th>standard_of_living_index</th>\n",
       "      <th>media_exposure</th>\n",
       "      <th>contraceptive_method</th>\n",
       "    </tr>\n",
       "  </thead>\n",
       "  <tbody>\n",
       "    <tr>\n",
       "      <th>count</th>\n",
       "      <td>1473.000000</td>\n",
       "      <td>1473.000000</td>\n",
       "      <td>1473.000000</td>\n",
       "      <td>1473.000000</td>\n",
       "      <td>1473.000000</td>\n",
       "      <td>1473.000000</td>\n",
       "      <td>1473.000000</td>\n",
       "      <td>1473.000000</td>\n",
       "    </tr>\n",
       "    <tr>\n",
       "      <th>mean</th>\n",
       "      <td>2.958588</td>\n",
       "      <td>3.429735</td>\n",
       "      <td>0.850645</td>\n",
       "      <td>0.749491</td>\n",
       "      <td>2.137814</td>\n",
       "      <td>3.133741</td>\n",
       "      <td>0.073999</td>\n",
       "      <td>1.919891</td>\n",
       "    </tr>\n",
       "    <tr>\n",
       "      <th>std</th>\n",
       "      <td>1.014994</td>\n",
       "      <td>0.816349</td>\n",
       "      <td>0.356559</td>\n",
       "      <td>0.433453</td>\n",
       "      <td>0.864857</td>\n",
       "      <td>0.976161</td>\n",
       "      <td>0.261858</td>\n",
       "      <td>0.876376</td>\n",
       "    </tr>\n",
       "    <tr>\n",
       "      <th>min</th>\n",
       "      <td>1.000000</td>\n",
       "      <td>1.000000</td>\n",
       "      <td>0.000000</td>\n",
       "      <td>0.000000</td>\n",
       "      <td>1.000000</td>\n",
       "      <td>1.000000</td>\n",
       "      <td>0.000000</td>\n",
       "      <td>1.000000</td>\n",
       "    </tr>\n",
       "    <tr>\n",
       "      <th>25%</th>\n",
       "      <td>2.000000</td>\n",
       "      <td>3.000000</td>\n",
       "      <td>1.000000</td>\n",
       "      <td>0.000000</td>\n",
       "      <td>1.000000</td>\n",
       "      <td>3.000000</td>\n",
       "      <td>0.000000</td>\n",
       "      <td>1.000000</td>\n",
       "    </tr>\n",
       "    <tr>\n",
       "      <th>50%</th>\n",
       "      <td>3.000000</td>\n",
       "      <td>4.000000</td>\n",
       "      <td>1.000000</td>\n",
       "      <td>1.000000</td>\n",
       "      <td>2.000000</td>\n",
       "      <td>3.000000</td>\n",
       "      <td>0.000000</td>\n",
       "      <td>2.000000</td>\n",
       "    </tr>\n",
       "    <tr>\n",
       "      <th>75%</th>\n",
       "      <td>4.000000</td>\n",
       "      <td>4.000000</td>\n",
       "      <td>1.000000</td>\n",
       "      <td>1.000000</td>\n",
       "      <td>3.000000</td>\n",
       "      <td>4.000000</td>\n",
       "      <td>0.000000</td>\n",
       "      <td>3.000000</td>\n",
       "    </tr>\n",
       "    <tr>\n",
       "      <th>max</th>\n",
       "      <td>4.000000</td>\n",
       "      <td>4.000000</td>\n",
       "      <td>1.000000</td>\n",
       "      <td>1.000000</td>\n",
       "      <td>4.000000</td>\n",
       "      <td>4.000000</td>\n",
       "      <td>1.000000</td>\n",
       "      <td>3.000000</td>\n",
       "    </tr>\n",
       "  </tbody>\n",
       "</table>\n",
       "</div>"
      ],
      "text/plain": [
       "          wife_edu  husband_edu  wife_religion  wife_working  \\\n",
       "count  1473.000000  1473.000000    1473.000000   1473.000000   \n",
       "mean      2.958588     3.429735       0.850645      0.749491   \n",
       "std       1.014994     0.816349       0.356559      0.433453   \n",
       "min       1.000000     1.000000       0.000000      0.000000   \n",
       "25%       2.000000     3.000000       1.000000      0.000000   \n",
       "50%       3.000000     4.000000       1.000000      1.000000   \n",
       "75%       4.000000     4.000000       1.000000      1.000000   \n",
       "max       4.000000     4.000000       1.000000      1.000000   \n",
       "\n",
       "       husband_occupation  standard_of_living_index  media_exposure  \\\n",
       "count         1473.000000               1473.000000     1473.000000   \n",
       "mean             2.137814                  3.133741        0.073999   \n",
       "std              0.864857                  0.976161        0.261858   \n",
       "min              1.000000                  1.000000        0.000000   \n",
       "25%              1.000000                  3.000000        0.000000   \n",
       "50%              2.000000                  3.000000        0.000000   \n",
       "75%              3.000000                  4.000000        0.000000   \n",
       "max              4.000000                  4.000000        1.000000   \n",
       "\n",
       "       contraceptive_method  \n",
       "count           1473.000000  \n",
       "mean               1.919891  \n",
       "std                0.876376  \n",
       "min                1.000000  \n",
       "25%                1.000000  \n",
       "50%                2.000000  \n",
       "75%                3.000000  \n",
       "max                3.000000  "
      ]
     },
     "execution_count": 25,
     "metadata": {},
     "output_type": "execute_result"
    }
   ],
   "source": [
    "df[cat_cols].describe()"
   ]
  },
  {
   "cell_type": "code",
   "execution_count": 26,
   "id": "d2099f49-3ac2-4278-b4f3-099cf6a409c1",
   "metadata": {},
   "outputs": [
    {
     "name": "stdout",
     "output_type": "stream",
     "text": [
      "contraceptive_method\n",
      "1    0.427020\n",
      "3    0.346911\n",
      "2    0.226069\n",
      "Name: proportion, dtype: float64\n"
     ]
    },
    {
     "data": {
      "image/png": "[encoded data removed]",
      "text/plain": [
       "<Figure size 640x480 with 1 Axes>"
      ]
     },
     "metadata": {},
     "output_type": "display_data"
    }
   ],
   "source": [
    "import seaborn as sns\n",
    "import matplotlib.pyplot as plt\n",
    "\n",
    "# Check class distribution\n",
    "print(df['contraceptive_method'].value_counts(normalize=True))  # Proportions\n",
    "sns.countplot(x=df['contraceptive_method'])\n",
    "plt.title(\"Class Distribution\")\n",
    "plt.show()\n"
   ]
  },
  {
   "cell_type": "markdown",
   "id": "291058e2-1431-407d-a76a-58589f73115b",
   "metadata": {},
   "source": [
    "### <span style=\"color: hotpink\">Numerical Features"
   ]
  },
  {
   "cell_type": "code",
   "execution_count": 28,
   "id": "9a81493a-35a5-42c4-9285-68bdebeb5f10",
   "metadata": {},
   "outputs": [
    {
     "data": {
      "image/png": "[encoded data removed]",
      "text/plain": [
       "<Figure size 1200x500 with 2 Axes>"
      ]
     },
     "metadata": {},
     "output_type": "display_data"
    }
   ],
   "source": [
    "fig, axes = plt.subplots(nrows=1, ncols=2, figsize=(12, 5))\n",
    "axes = axes.flatten()\n",
    "\n",
    "for i, col in enumerate(num_cols):  \n",
    "    sns.histplot(df[col], ax=axes[i], bins=20, color='#e78ac3')\n",
    "    axes[i].set_title(col)\n",
    "\n",
    "for j in range(len(num_cols), len(axes)):\n",
    "    fig.delaxes(axes[j])\n",
    "\n",
    "plt.tight_layout()\n",
    "plt.show()\n"
   ]
  },
  {
   "cell_type": "markdown",
   "id": "c7b604cd-a0a5-4e8a-8c99-c3b9a5a5fcba",
   "metadata": {},
   "source": [
    "<span style=\"color: purple\">Most women are in their late twenties to early thirties which is the expected range for this study, but ages range from 16 to 49. Most women have at least 1-3 children, few have no children, and fewer have more than 8."
   ]
  },
  {
   "cell_type": "code",
   "execution_count": 30,
   "id": "f104d156-4411-4fdb-8677-6e22287f1389",
   "metadata": {},
   "outputs": [
    {
     "data": {
      "text/html": [
       "<div>\n",
       "<style scoped>\n",
       "    .dataframe tbody tr th:only-of-type {\n",
       "        vertical-align: middle;\n",
       "    }\n",
       "\n",
       "    .dataframe tbody tr th {\n",
       "        vertical-align: top;\n",
       "    }\n",
       "\n",
       "    .dataframe thead th {\n",
       "        text-align: right;\n",
       "    }\n",
       "</style>\n",
       "<table border=\"1\" class=\"dataframe\">\n",
       "  <thead>\n",
       "    <tr style=\"text-align: right;\">\n",
       "      <th></th>\n",
       "      <th>wife_age</th>\n",
       "      <th>num_children</th>\n",
       "    </tr>\n",
       "  </thead>\n",
       "  <tbody>\n",
       "    <tr>\n",
       "      <th>count</th>\n",
       "      <td>1473.000000</td>\n",
       "      <td>1473.000000</td>\n",
       "    </tr>\n",
       "    <tr>\n",
       "      <th>mean</th>\n",
       "      <td>32.538357</td>\n",
       "      <td>3.261371</td>\n",
       "    </tr>\n",
       "    <tr>\n",
       "      <th>std</th>\n",
       "      <td>8.227245</td>\n",
       "      <td>2.358549</td>\n",
       "    </tr>\n",
       "    <tr>\n",
       "      <th>min</th>\n",
       "      <td>16.000000</td>\n",
       "      <td>0.000000</td>\n",
       "    </tr>\n",
       "    <tr>\n",
       "      <th>25%</th>\n",
       "      <td>26.000000</td>\n",
       "      <td>1.000000</td>\n",
       "    </tr>\n",
       "    <tr>\n",
       "      <th>50%</th>\n",
       "      <td>32.000000</td>\n",
       "      <td>3.000000</td>\n",
       "    </tr>\n",
       "    <tr>\n",
       "      <th>75%</th>\n",
       "      <td>39.000000</td>\n",
       "      <td>4.000000</td>\n",
       "    </tr>\n",
       "    <tr>\n",
       "      <th>max</th>\n",
       "      <td>49.000000</td>\n",
       "      <td>16.000000</td>\n",
       "    </tr>\n",
       "  </tbody>\n",
       "</table>\n",
       "</div>"
      ],
      "text/plain": [
       "          wife_age  num_children\n",
       "count  1473.000000   1473.000000\n",
       "mean     32.538357      3.261371\n",
       "std       8.227245      2.358549\n",
       "min      16.000000      0.000000\n",
       "25%      26.000000      1.000000\n",
       "50%      32.000000      3.000000\n",
       "75%      39.000000      4.000000\n",
       "max      49.000000     16.000000"
      ]
     },
     "execution_count": 30,
     "metadata": {},
     "output_type": "execute_result"
    }
   ],
   "source": [
    "df[num_cols].describe()"
   ]
  },
  {
   "cell_type": "code",
   "execution_count": 31,
   "id": "d1cfd471-21fd-45b0-b94a-995c3a8cf800",
   "metadata": {},
   "outputs": [
    {
     "data": {
      "image/png": "[encoded data removed]",
      "text/plain": [
       "<Figure size 1500x1200 with 8 Axes>"
      ]
     },
     "metadata": {},
     "output_type": "display_data"
    }
   ],
   "source": [
    "fig, axes = plt.subplots(nrows=4, ncols=2, figsize=(15, 12)) \n",
    "axes = axes.flatten()\n",
    "\n",
    "for i, col in enumerate(cat_cols):\n",
    "    sns.countplot(x=col, hue='contraceptive_method', data=df, palette='Set2', ax=axes[i])\n",
    "    axes[i].set_title('')\n",
    "    axes[i].tick_params(axis='x', rotation=45) \n",
    "\n",
    "plt.tight_layout()\n",
    "plt.show()"
   ]
  },
  {
   "cell_type": "markdown",
   "id": "08d2f84c-582c-4cd4-88a1-db102eafb0e2",
   "metadata": {},
   "source": [
    "<span style=\"color: purple\">Overall, the most common contraceptive method in almost every category is no use. The only two exceptions are when the wife's religion is non-Islam, in which no use is barely beat out by long-term methods, and when the wife has a high education level, in which long- and short-term methods surpass no use. Short-term methods tend to be the next most common aside from a few exceptions including husband occupation level 1 (maybe a lower income job), low husband education level, and not-Islam religious affiliation.  \n",
    "\n",
    "<span style=\"color: purple\">All of these features seem to be significant in determining contraceptive use. There is a direct trend between contraceptive use and education levels as well as standard of living. Non-Islamic, non-working wives with low media exposure and education levels are less likely to use any form of contraception, however no use is still the most common among the other classes even with the prevalence of other methods."
   ]
  },
  {
   "cell_type": "code",
   "execution_count": 33,
   "id": "362cf2c4-b291-496f-9ecf-3f1088ee9ac1",
   "metadata": {},
   "outputs": [
    {
     "data": {
      "text/plain": [
       "<Axes: xlabel='contraceptive_method', ylabel='wife_age'>"
      ]
     },
     "execution_count": 33,
     "metadata": {},
     "output_type": "execute_result"
    },
    {
     "data": {
      "image/png": "[encoded data removed]",
      "text/plain": [
       "<Figure size 640x480 with 1 Axes>"
      ]
     },
     "metadata": {},
     "output_type": "display_data"
    }
   ],
   "source": [
    "sns.boxplot(x='contraceptive_method', y='wife_age', data=df, color='#e78ac3')"
   ]
  },
  {
   "cell_type": "markdown",
   "id": "84017e7f-3756-4914-a039-46bd746d8eda",
   "metadata": {},
   "source": [
    "<span style=\"color: purple\">The range of ages for each method is pretty even. No use has the widest spread. It makes sense for no use to reach into the higher ages as contraception is not necessary past a certain point in a woman's life. Long-term methods have a smaller spread and is more centered at the higher ages. Women are likely choosing to prevent pregnancy past a certain age. Short-term methods fall in the slightly younger age group, women who may still choose to become pregnant or don't have access to or knowledge of long-term methods."
   ]
  },
  {
   "cell_type": "code",
   "execution_count": 35,
   "id": "35ec03b9-c77d-49ae-a085-65edf3c846e5",
   "metadata": {},
   "outputs": [
    {
     "data": {
      "text/plain": [
       "<Axes: xlabel='contraceptive_method', ylabel='num_children'>"
      ]
     },
     "execution_count": 35,
     "metadata": {},
     "output_type": "execute_result"
    },
    {
     "data": {
      "image/png": "[encoded data removed]",
      "text/plain": [
       "<Figure size 640x480 with 1 Axes>"
      ]
     },
     "metadata": {},
     "output_type": "display_data"
    }
   ],
   "source": [
    "sns.boxplot(x='contraceptive_method', y='num_children', data=df, color='#e78ac3')\n"
   ]
  },
  {
   "cell_type": "markdown",
   "id": "97c7fefe-4963-48fc-a0d5-c942380f689f",
   "metadata": {},
   "source": [
    "<span style=\"color: purple\">All three methods have outliers, similarly sized ranges and spreads. Surprisingly, long-term use has a higher range and high outliers. One would think long-term users would have less children. Based on the previous graph, long-term methods are more common among older women, so perhaps they are having more children first and then switching to long-term methods."
   ]
  },
  {
   "cell_type": "markdown",
   "id": "51dd38b0-eced-43a3-883c-f6e5fca84a3f",
   "metadata": {},
   "source": [
    "## <span style=\"color: hotpink\">Modeling"
   ]
  },
  {
   "cell_type": "markdown",
   "id": "8cc5599b-464b-40fc-bf2f-591cd3392ec0",
   "metadata": {},
   "source": [
    "<span style=\"color: purple\">Before proceeding with the modeling, I need to consider a few things. First, the class imbalance in the target variable. I can either use the class weight parameter in the models to adjust for imbalance automatically, or I can alter the original dataset using resampling techniques. Next, the wife_age and num_children features are quantitative and should be scaled for better performance with SVM and KNN since they rely on distance calculations. I can start by experimenting with random forest models as a baseline and compare their performances to the scaled, rebalanced, and tuned models. Precision, recall, and f1-score will be important metrics to evaluate as they are better reflections of model performance for imbalanced data."
   ]
  },
  {
   "cell_type": "markdown",
   "id": "c45e87ea-ff91-4d7b-b2d7-9134b1a30d94",
   "metadata": {},
   "source": [
    "### <span style=\"color: hotpink\">Random Forest"
   ]
  },
  {
   "cell_type": "markdown",
   "id": "2a8b7e5f-f5a0-4a25-a29e-75d5229095c5",
   "metadata": {},
   "source": [
    "<span style=\"color: purple\">First I'll try a random forest model with no weights, rebalancing, or scaling, just so we can see how the model improves. Random forest is an ensemble method that builds multiple decision trees and combines their outputs via majority voting (classification) or averaging (regression). It handles large datasets well, reduces overfitting, and provides feature importance but can be slow and less interpretable."
   ]
  },
  {
   "cell_type": "markdown",
   "id": "6580cfaf-3b18-4b85-918e-c82324e4d364",
   "metadata": {},
   "source": [
    "#### <span style=\"color: hotpink\">Baseline"
   ]
  },
  {
   "cell_type": "code",
   "execution_count": 42,
   "id": "b5dc6e4e-9606-4f38-b347-3060352de6d0",
   "metadata": {},
   "outputs": [
    {
     "name": "stdout",
     "output_type": "stream",
     "text": [
      "Classification Report:\n",
      "              precision    recall  f1-score   support\n",
      "\n",
      "           1       0.63      0.61      0.62       126\n",
      "           2       0.45      0.33      0.38        67\n",
      "           3       0.50      0.61      0.55       102\n",
      "\n",
      "    accuracy                           0.55       295\n",
      "   macro avg       0.53      0.52      0.52       295\n",
      "weighted avg       0.54      0.55      0.54       295\n",
      "\n",
      "Confusion Matrix:\n",
      "[[77 12 37]\n",
      " [20 22 25]\n",
      " [25 15 62]]\n"
     ]
    }
   ],
   "source": [
    "from sklearn.ensemble import RandomForestClassifier\n",
    "from sklearn.model_selection import train_test_split\n",
    "from sklearn.metrics import classification_report, confusion_matrix\n",
    "\n",
    "# train test split\n",
    "X = df.drop(columns=['contraceptive_method']) # predictors\n",
    "y = df['contraceptive_method'] # target\n",
    "X_train, X_test, y_train, y_test = train_test_split(X, y, test_size=0.2, random_state=42, \n",
    "                                                    stratify=y) # stratified to balance class \n",
    "                                                                # dist in train and test sets\n",
    "\n",
    "\n",
    "# train and fit\n",
    "rf_base = RandomForestClassifier(random_state=42, max_depth=10).fit(X_train, y_train)\n",
    "\n",
    "# prediction\n",
    "y_pred = rf_base.predict(X_test)\n",
    "\n",
    "# evaluation\n",
    "print(\"Classification Report:\")\n",
    "print(classification_report(y_test, y_pred))\n",
    "\n",
    "print(\"Confusion Matrix:\")\n",
    "print(confusion_matrix(y_test, y_pred))\n"
   ]
  },
  {
   "cell_type": "markdown",
   "id": "7ba7b8ce-8a98-40bf-b89b-58dbca8df935",
   "metadata": {},
   "source": [
    "<span style=\"color: purple\">Class 1 (no use) is the strongest class with decent metrics. Class 2 (long-term) is the weakest, which makes sense as it is the least represented class. With an accuracy of 55%, this model is not performing well enough. Let's see if class weights make a significant difference."
   ]
  },
  {
   "cell_type": "markdown",
   "id": "1d930cde-645b-4e36-8f86-553be4107037",
   "metadata": {},
   "source": [
    "#### <span style=\"color: hotpink\">Class Weight"
   ]
  },
  {
   "cell_type": "code",
   "execution_count": 45,
   "id": "c581c20b-2b33-42b8-a16d-dc7eb0a35a16",
   "metadata": {},
   "outputs": [
    {
     "name": "stdout",
     "output_type": "stream",
     "text": [
      "Classification Report:\n",
      "              precision    recall  f1-score   support\n",
      "\n",
      "           1       0.68      0.56      0.61       126\n",
      "           2       0.40      0.43      0.42        67\n",
      "           3       0.51      0.59      0.55       102\n",
      "\n",
      "    accuracy                           0.54       295\n",
      "   macro avg       0.53      0.53      0.53       295\n",
      "weighted avg       0.56      0.54      0.55       295\n",
      "\n",
      "Confusion Matrix:\n",
      "[[71 18 37]\n",
      " [17 29 21]\n",
      " [17 25 60]]\n"
     ]
    }
   ],
   "source": [
    "# train and fit\n",
    "rf_weighted = RandomForestClassifier(class_weight=\"balanced\", random_state=42, max_depth=10).fit(X_train, y_train)\n",
    "\n",
    "# prediction\n",
    "y_pred = rf_weighted.predict(X_test)\n",
    "\n",
    "# evaluation\n",
    "print(\"Classification Report:\")\n",
    "print(classification_report(y_test, y_pred))\n",
    "\n",
    "print(\"Confusion Matrix:\")\n",
    "print(confusion_matrix(y_test, y_pred))"
   ]
  },
  {
   "cell_type": "markdown",
   "id": "ed96194d-d157-4edd-947e-b75dbc37574c",
   "metadata": {},
   "source": [
    "<span style=\"color: purple\">There is a slight improvement in some of the metrics for class 2, but overall the model is still pretty weak. Let's try resampling."
   ]
  },
  {
   "cell_type": "code",
   "execution_count": 47,
   "id": "027eb552-ab25-414a-8506-9141b4ecb18e",
   "metadata": {},
   "outputs": [],
   "source": [
    "#pip install imbalanced-learn"
   ]
  },
  {
   "cell_type": "markdown",
   "id": "ff4dd1ed-decd-4859-a047-d7a1231d5c69",
   "metadata": {},
   "source": [
    "#### <span style=\"color: hotpink\">Resampling"
   ]
  },
  {
   "cell_type": "code",
   "execution_count": 49,
   "id": "30405a05-015d-4b77-9aa4-670cdd61a52a",
   "metadata": {},
   "outputs": [
    {
     "name": "stdout",
     "output_type": "stream",
     "text": [
      "Class distribution after resampling: contraceptive_method\n",
      "1    435\n",
      "2    435\n",
      "3    435\n",
      "Name: count, dtype: int64\n"
     ]
    }
   ],
   "source": [
    "from imblearn.over_sampling import SMOTE\n",
    "\n",
    "# re-split without strafify=y\n",
    "X_train, X_test, y_train, y_test = train_test_split(X, y, test_size=0.3, random_state=42)\n",
    "\n",
    "# resample and re-fit\n",
    "smote = SMOTE(sampling_strategy='auto', random_state=42)\n",
    "X_train_resampled, y_train_resampled = smote.fit_resample(X_train, y_train)\n",
    "\n",
    "print(f\"Class distribution after resampling: {y_train_resampled.value_counts()}\")\n"
   ]
  },
  {
   "cell_type": "code",
   "execution_count": 50,
   "id": "16df90f8-ded9-41f3-b881-6ccdc1ea30bb",
   "metadata": {},
   "outputs": [
    {
     "name": "stdout",
     "output_type": "stream",
     "text": [
      "Classification Report:\n",
      "              precision    recall  f1-score   support\n",
      "\n",
      "           1       0.76      0.56      0.64       194\n",
      "           2       0.44      0.47      0.45       101\n",
      "           3       0.50      0.65      0.57       147\n",
      "\n",
      "    accuracy                           0.57       442\n",
      "   macro avg       0.57      0.56      0.55       442\n",
      "weighted avg       0.60      0.57      0.57       442\n",
      "\n",
      "Confusion Matrix:\n",
      "[[108  28  58]\n",
      " [ 16  47  38]\n",
      " [ 18  33  96]]\n"
     ]
    }
   ],
   "source": [
    "# train and fit\n",
    "rf_resampled = RandomForestClassifier(class_weight=\"balanced\", random_state=42, max_depth=10).fit(X_train, y_train)\n",
    "\n",
    "# prediction\n",
    "y_pred = rf_resampled.predict(X_test)\n",
    "\n",
    "# evaluation\n",
    "print(\"Classification Report:\")\n",
    "print(classification_report(y_test, y_pred))\n",
    "\n",
    "print(\"Confusion Matrix:\")\n",
    "print(confusion_matrix(y_test, y_pred))"
   ]
  },
  {
   "cell_type": "markdown",
   "id": "b68a5910-29f1-4515-9f8f-c22fddeaa646",
   "metadata": {},
   "source": [
    "<span style=\"color: purple\">There is significant improvement in this resampled model, but it is still struggling with class 2, misclassifying it more often than correctly classifying it. Let's try another model."
   ]
  },
  {
   "cell_type": "markdown",
   "id": "fb9d8034-1317-4549-9fce-82cfffd06b7d",
   "metadata": {},
   "source": [
    "### <span style=\"color: hotpink\">Categorical Naive Bayes"
   ]
  },
  {
   "cell_type": "markdown",
   "id": "1b81f7ba-37a3-4f22-8d43-a2ff928d7296",
   "metadata": {},
   "source": [
    "<span style=\"color: purple\">I will be trying Categorical Naive Bayes next with the resampled data as it does not require scaling and can handle the categorical features. Categorical Naive Bayes is a probabilistic classifier based on Bayes' theorem, designed for categorical data. It is fast, works well with small datasets, and handles missing data but assumes feature independence, which may reduce accuracy in correlated datasets."
   ]
  },
  {
   "cell_type": "code",
   "execution_count": 54,
   "id": "fa343eb0-6fa1-47b5-85a0-d78502ca87ef",
   "metadata": {},
   "outputs": [
    {
     "name": "stdout",
     "output_type": "stream",
     "text": [
      "Classification Report:\n",
      "              precision    recall  f1-score   support\n",
      "\n",
      "           1       0.67      0.52      0.59       194\n",
      "           2       0.42      0.56      0.48       101\n",
      "           3       0.48      0.50      0.49       147\n",
      "\n",
      "    accuracy                           0.52       442\n",
      "   macro avg       0.52      0.53      0.52       442\n",
      "weighted avg       0.55      0.52      0.53       442\n",
      "\n",
      "Confusion Matrix:\n",
      "[[101  42  51]\n",
      " [ 14  57  30]\n",
      " [ 35  38  74]]\n"
     ]
    }
   ],
   "source": [
    "from sklearn.naive_bayes import CategoricalNB\n",
    "\n",
    "# train and fit\n",
    "nb = CategoricalNB().fit(X_train_resampled, y_train_resampled)\n",
    "\n",
    "# prediction\n",
    "y_pred = nb.predict(X_test)\n",
    "\n",
    "# evaluation\n",
    "print(\"Classification Report:\")\n",
    "print(classification_report(y_test, y_pred))\n",
    "\n",
    "print(\"Confusion Matrix:\")\n",
    "print(confusion_matrix(y_test, y_pred))\n"
   ]
  },
  {
   "cell_type": "markdown",
   "id": "03ef42b0-daf3-417d-bd33-696e4c5872e8",
   "metadata": {},
   "source": [
    "<span style=\"color: purple\">This model has improvements in some areas but is weaker in others. For example, it is better at correctly predicting true positives (recall) for class 2 but worse for class 3. Class 3 is misclassified as often as it is correctly classified. Let's see if scaling makes a difference."
   ]
  },
  {
   "cell_type": "markdown",
   "id": "f84ad28a-419e-499a-84e0-7888689bf8a2",
   "metadata": {},
   "source": [
    "#### <span style=\"color: hotpink\">Scaling"
   ]
  },
  {
   "cell_type": "markdown",
   "id": "65f80e00-b79c-4ae9-a306-4536ca2aacea",
   "metadata": {},
   "source": [
    "<span style=\"color: purple\">I'm not sure which scaler I should use, and I'm not sure whether to scale only the quantitative variables or all of them including the categorical variables. Since the categorical variables all fall in similar ranges and don't represent continuous values, they probably won't need to be scaled, so I'll leave them alone for now. wife_age is more normally distributed, so I will try standardization, while num_children is very skewed, so I will try normalization."
   ]
  },
  {
   "cell_type": "code",
   "execution_count": 58,
   "id": "1217eb67-2753-4f7d-a153-98c86d17aafd",
   "metadata": {},
   "outputs": [],
   "source": [
    "from sklearn.preprocessing import StandardScaler, MinMaxScaler\n",
    "\n",
    "standard_scaler = StandardScaler()\n",
    "min_max_scaler = MinMaxScaler()\n",
    "\n",
    "# fit resampled train sets\n",
    "standard_scaler.fit(X_train_resampled[['wife_age']])\n",
    "min_max_scaler.fit(X_train_resampled[['num_children']])\n",
    "\n",
    "# transform resampled train sets\n",
    "X_train_resampled[['wife_age']] = standard_scaler.transform(X_train_resampled[['wife_age']])\n",
    "X_train_resampled[['num_children']] = min_max_scaler.transform(X_train_resampled[['num_children']])\n",
    "\n",
    "# transform test set\n",
    "X_test[['wife_age']] = standard_scaler.transform(X_test[['wife_age']])\n",
    "X_test[['num_children']] = min_max_scaler.transform(X_test[['num_children']])"
   ]
  },
  {
   "cell_type": "code",
   "execution_count": 59,
   "id": "98bf92b5-be7b-4155-b2a4-383b08b18fb6",
   "metadata": {},
   "outputs": [
    {
     "name": "stdout",
     "output_type": "stream",
     "text": [
      "Classification Report:\n",
      "              precision    recall  f1-score   support\n",
      "\n",
      "           1       0.78      0.52      0.63       194\n",
      "           2       0.42      0.50      0.46       101\n",
      "           3       0.50      0.65      0.57       147\n",
      "\n",
      "    accuracy                           0.56       442\n",
      "   macro avg       0.57      0.56      0.55       442\n",
      "weighted avg       0.61      0.56      0.57       442\n",
      "\n",
      "Confusion Matrix:\n",
      "[[101  36  57]\n",
      " [ 12  51  38]\n",
      " [ 16  35  96]]\n"
     ]
    }
   ],
   "source": [
    "X_train_scaled = X_train_resampled.copy()\n",
    "\n",
    "# train and fit\n",
    "rf_scaled = RandomForestClassifier(random_state=42, class_weight='balanced', max_depth=10).fit(X_train_scaled, y_train_resampled)\n",
    "\n",
    "# prediction\n",
    "y_pred = rf_scaled.predict(X_test)\n",
    "\n",
    "# evaluation\n",
    "print(\"Classification Report:\")\n",
    "print(classification_report(y_test, y_pred))\n",
    "\n",
    "print(\"Confusion Matrix:\")\n",
    "print(confusion_matrix(y_test, y_pred))"
   ]
  },
  {
   "cell_type": "markdown",
   "id": "f0cae074-010f-4f97-9b35-c3a8ce25f4b7",
   "metadata": {},
   "source": [
    "<span style=\"color: purple\">This random forest with resampling and scaling performs better. Let's try out some other models where scaling is very important."
   ]
  },
  {
   "cell_type": "markdown",
   "id": "76b184f3-5cf7-41f6-8ebc-28ef5fa35236",
   "metadata": {},
   "source": [
    "### <span style=\"color: hotpink\">KNN"
   ]
  },
  {
   "cell_type": "markdown",
   "id": "65b786c6-fc0d-4ce4-8f0e-c52f7af31c30",
   "metadata": {},
   "source": [
    "<span style=\"color: purple\">K-Nearest Neighbors is a distance-based algorithm that classifies a data point based on the majority class among its k nearest neighbors. It is simple and works well with small datasets but can be slow for large datasets and sensitive to k selection and high-dimensional data."
   ]
  },
  {
   "cell_type": "code",
   "execution_count": 63,
   "id": "f20eece9-7ef8-430f-be92-851f001abeb1",
   "metadata": {},
   "outputs": [
    {
     "name": "stdout",
     "output_type": "stream",
     "text": [
      "Classification Report for KNN:\n",
      "              precision    recall  f1-score   support\n",
      "\n",
      "           1       0.53      0.45      0.48       194\n",
      "           2       0.32      0.47      0.38       101\n",
      "           3       0.42      0.37      0.39       147\n",
      "\n",
      "    accuracy                           0.43       442\n",
      "   macro avg       0.42      0.43      0.42       442\n",
      "weighted avg       0.44      0.43      0.43       442\n",
      "\n",
      "Confusion Matrix for KNN:\n",
      "[[87 60 47]\n",
      " [25 47 29]\n",
      " [53 40 54]]\n"
     ]
    }
   ],
   "source": [
    "from sklearn.neighbors import KNeighborsClassifier\n",
    "\n",
    "# train and fit\n",
    "knn = KNeighborsClassifier(n_neighbors=5).fit(X_train_scaled, y_train_resampled)\n",
    "\n",
    "# prediction\n",
    "y_pred_knn = knn.predict(X_test)\n",
    "\n",
    "# evaluation\n",
    "print(\"Classification Report for KNN:\")\n",
    "print(classification_report(y_test, y_pred_knn))\n",
    "\n",
    "print(\"Confusion Matrix for KNN:\")\n",
    "print(confusion_matrix(y_test, y_pred_knn))\n"
   ]
  },
  {
   "cell_type": "markdown",
   "id": "81c63233-8c27-4cc0-afaf-3c6c94b1ad87",
   "metadata": {},
   "source": [
    "<span style=\"color: purple\">This KNN model is not as strong as the random forest but it is better than the original baseline model. Maybe it can be tuned to improve performance."
   ]
  },
  {
   "cell_type": "code",
   "execution_count": 65,
   "id": "f7231fdb-0cba-4f4e-855e-9f692a7124fd",
   "metadata": {},
   "outputs": [
    {
     "name": "stdout",
     "output_type": "stream",
     "text": [
      "Classification Report for KNN:\n",
      "              precision    recall  f1-score   support\n",
      "\n",
      "           1       0.52      0.39      0.44       194\n",
      "           2       0.36      0.47      0.41       101\n",
      "           3       0.43      0.49      0.46       147\n",
      "\n",
      "    accuracy                           0.44       442\n",
      "   macro avg       0.44      0.45      0.44       442\n",
      "weighted avg       0.45      0.44      0.44       442\n",
      "\n",
      "Confusion Matrix for KNN:\n",
      "[[75 54 65]\n",
      " [23 47 31]\n",
      " [47 28 72]]\n"
     ]
    }
   ],
   "source": [
    "from sklearn.neighbors import KNeighborsClassifier\n",
    "\n",
    "# train and fit\n",
    "knn = KNeighborsClassifier(n_neighbors=9).fit(X_train_scaled, y_train_resampled)\n",
    "\n",
    "# prediction\n",
    "y_pred_knn = knn.predict(X_test)\n",
    "\n",
    "# evaluation\n",
    "print(\"Classification Report for KNN:\")\n",
    "print(classification_report(y_test, y_pred_knn))\n",
    "\n",
    "print(\"Confusion Matrix for KNN:\")\n",
    "print(confusion_matrix(y_test, y_pred_knn))\n"
   ]
  },
  {
   "cell_type": "markdown",
   "id": "5c6b9bd5-c8eb-4ace-b626-cd6dee12d346",
   "metadata": {},
   "source": [
    "<span style=\"color: purple\">Changing the number of neighbors actually decreased the performance of the model. Let's try SVM instead."
   ]
  },
  {
   "cell_type": "markdown",
   "id": "e94ecf88-f742-4cae-9d5e-76beb3d40ba3",
   "metadata": {},
   "source": [
    "### <span style=\"color: hotpink\">SVM"
   ]
  },
  {
   "cell_type": "markdown",
   "id": "1023ebee-f1bd-405b-8b61-bcc4824964d6",
   "metadata": {},
   "source": [
    "<span style=\"color: purple\">Support Vector Machine is a classifier that finds an optimal hyperplane to separate classes, using kernel functions for complex patterns. It works well with high-dimensional data but can be computationally expensive and sensitive to hyperparameter tuning."
   ]
  },
  {
   "cell_type": "code",
   "execution_count": 69,
   "id": "741d8bed-445d-4322-96ce-fb6f8b8f4f02",
   "metadata": {},
   "outputs": [
    {
     "name": "stdout",
     "output_type": "stream",
     "text": [
      "Classification Report for SVM:\n",
      "              precision    recall  f1-score   support\n",
      "\n",
      "           1       0.60      0.31      0.41       194\n",
      "           2       0.37      0.66      0.48       101\n",
      "           3       0.48      0.52      0.50       147\n",
      "\n",
      "    accuracy                           0.46       442\n",
      "   macro avg       0.48      0.50      0.46       442\n",
      "weighted avg       0.51      0.46      0.46       442\n",
      "\n",
      "Confusion Matrix for SVM:\n",
      "[[61 70 63]\n",
      " [12 67 22]\n",
      " [28 42 77]]\n"
     ]
    }
   ],
   "source": [
    "from sklearn.svm import SVC\n",
    "from sklearn.model_selection import GridSearchCV\n",
    "\n",
    "# train and fit\n",
    "svm_model = SVC(random_state=42).fit(X_train_scaled, y_train_resampled)\n",
    "\n",
    "# prediction\n",
    "y_pred_svm = svm_model.predict(X_test)\n",
    "\n",
    "# evaluation\n",
    "print(\"Classification Report for SVM:\")\n",
    "print(classification_report(y_test, y_pred_svm))\n",
    "\n",
    "print(\"Confusion Matrix for SVM:\")\n",
    "print(confusion_matrix(y_test, y_pred_svm))\n"
   ]
  },
  {
   "cell_type": "markdown",
   "id": "896e5b33-ccbe-4094-a4c9-608af10c4992",
   "metadata": {},
   "source": [
    "<span style=\"color: purple\">This is slightly better. Let's see if we can improve the model using cross-validation."
   ]
  },
  {
   "cell_type": "code",
   "execution_count": 71,
   "id": "1098726f-88f8-4613-bd1e-efad591cee04",
   "metadata": {},
   "outputs": [
    {
     "name": "stdout",
     "output_type": "stream",
     "text": [
      "Best parameters from GridSearchCV: {'C': 10, 'gamma': 'auto', 'kernel': 'rbf'}\n",
      "Classification Report for Best SVM:\n",
      "              precision    recall  f1-score   support\n",
      "\n",
      "           1       0.68      0.39      0.49       194\n",
      "           2       0.37      0.60      0.46       101\n",
      "           3       0.47      0.52      0.50       147\n",
      "\n",
      "    accuracy                           0.48       442\n",
      "   macro avg       0.50      0.50      0.48       442\n",
      "weighted avg       0.54      0.48      0.48       442\n",
      "\n",
      "Confusion Matrix for Best SVM:\n",
      "[[75 61 58]\n",
      " [11 61 29]\n",
      " [25 45 77]]\n"
     ]
    }
   ],
   "source": [
    "param_grid = {\n",
    "    'C': [0.1, 1, 10],  # regularization parameter\n",
    "    'kernel': ['linear', 'rbf'],  # type of SVM kernel\n",
    "    'gamma': ['scale', 'auto']  #kernel coefficient\n",
    "}\n",
    "\n",
    "# 5-fold cross-validation\n",
    "grid_search_svm = GridSearchCV(SVC(random_state=42), param_grid, cv=5, scoring='accuracy')\n",
    "grid_search_svm.fit(X_train_scaled, y_train_resampled)\n",
    "\n",
    "print(f\"Best parameters from GridSearchCV: {grid_search_svm.best_params_}\")\n",
    "\n",
    "# prediction\n",
    "y_pred_svm_best = grid_search_svm.best_estimator_.predict(X_test)\n",
    "\n",
    "# evaluation\n",
    "print(\"Classification Report for Best SVM:\")\n",
    "print(classification_report(y_test, y_pred_svm_best))\n",
    "\n",
    "print(\"Confusion Matrix for Best SVM:\")\n",
    "print(confusion_matrix(y_test, y_pred_svm_best))\n"
   ]
  },
  {
   "cell_type": "markdown",
   "id": "9c7f5d74-40dd-45aa-b39f-1d27c8106718",
   "metadata": {},
   "source": [
    "<span style=\"color: purple\">This model is slightly better but the random forest model still outperforms all of them. As KNN and SVM rely on distance calculation they may require different scaling or further hyperparameter tuning to successfully predict contraceptive methods."
   ]
  },
  {
   "cell_type": "markdown",
   "id": "99582099-15b8-4f1b-ba24-c00f19d20a4c",
   "metadata": {},
   "source": [
    "## <span style=\"color: hotpink\">Impact"
   ]
  },
  {
   "cell_type": "markdown",
   "id": "a171174d-0a62-44ff-bf63-ce96e0ac8a97",
   "metadata": {},
   "source": [
    "<span style=\"color: purple\">This analysis revealed strong correlations between contraceptive use and features such as education level, standard of living, and media exposure. Women with higher education levels and better living standards were more likely to use contraception, particularly long-term methods. Religion and employment status also played a role, but their impact was less pronounced than expected.\n",
    "\n",
    "<span style=\"color: purple\">One of the key takeaways was the overwhelming prevalence of no contraceptive use across nearly all demographic groups. Even among women with higher education and greater media exposure, non-use remained the most common choice. This raises questions about access, awareness, and cultural attitudes toward contraception. It is possible that while knowledge of contraception exists, barriers such as cost, partner influence, or misinformation still limit usage.\n",
    "\n",
    "<span style=\"color: purple\">The implications of this study are significant. Increasing contraceptive use can empower women by allowing them to make informed decisions about family planning, pursue education and employment opportunities, and protect their reproductive health. It can also contribute to reducing maternal and infant mortality, particularly in populations with limited healthcare access. Ethically, these findings highlight the need for targeted education and healthcare policies that respect cultural beliefs while promoting reproductive autonomy.\n",
    "\n",
    "<span style=\"color: purple\">However, there are potential negative impacts to consider. Policies aimed at increasing contraceptive use must be implemented with sensitivity to avoid coercion or the perception of external control over reproductive choices. Additionally, while contraception provides many benefits, it should not be seen as a one-size-fits-all solution. Family planning initiatives should be comprehensive, addressing economic, healthcare, and educational disparities rather than focusing solely on contraceptive access.\n",
    "\n",
    "<span style=\"color: purple\">Overall, this project reinforces the importance of data-driven decision-making in public health. By understanding the factors influencing contraceptive use, policymakers and organizations can create more effective interventions that support women’s reproductive rights and overall well-being."
   ]
  },
  {
   "cell_type": "markdown",
   "id": "0b6c2a5a-fb86-4280-b8c1-c39fb9dc171a",
   "metadata": {},
   "source": [
    "## <span style=\"color: hotpink\">References  \n",
    "1. https://archive.ics.uci.edu/dataset/30/contraceptive+method+choice\n",
    "2. https://www.bbc.co.uk/religion/religions/islam/islamethics/contraception.shtml\n",
    "3. https://microdata.worldbank.org/index.php/catalog/1398/data-dictionary/F14?file_name=REC71\n",
    "4. ChatGPT for debugging."
   ]
  }
 ],
 "metadata": {
  "kernelspec": {
   "display_name": "Python [conda env:itcs3162]",
   "language": "python",
   "name": "conda-env-itcs3162-py"
  },
  "language_info": {
   "codemirror_mode": {
    "name": "ipython",
    "version": 3
   },
   "file_extension": ".py",
   "mimetype": "text/x-python",
   "name": "python",
   "nbconvert_exporter": "python",
   "pygments_lexer": "ipython3",
   "version": "3.12.8"
  }
 },
 "nbformat": 4,
 "nbformat_minor": 5
}
