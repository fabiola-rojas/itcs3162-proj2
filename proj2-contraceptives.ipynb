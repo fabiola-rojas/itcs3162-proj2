{
 "cells": [
  {
   "cell_type": "markdown",
   "id": "6a3ea41c-4caa-4688-bcb3-37996212b11f",
   "metadata": {},
   "source": [
    "# <span style=\"color: hotpink\">Project 1: Classification\n",
    "### <span style=\"color: hotpink\">Fabiola Rojas</span>\n",
    "---"
   ]
  },
  {
   "cell_type": "markdown",
   "id": "f20948f9-3c59-4916-97f4-8f8fec28b8f4",
   "metadata": {},
   "source": [
    "### <span style=\"color: hotpink\">The Problem</span> \n",
    "Family planning plays a crucial role in public health and economic stability, yet contraceptive use varies significantly based on demographic and socioeconomic factors. Understanding what influences contraceptive choices can help policymakers and healthcare providers develop better strategies for reproductive health education and access.\n",
    "\n",
    "I aim to build a classification model that predicts a woman's contraceptive method choice based on various factors such as education, employment status, and standard of living. I will use the following questions to help uncover insights about the dataset: \n",
    "\n",
    "- What is the most common contraceptive method?\n",
    "- How are the socioeconomic features distributed?\n",
    "- Does a husband's education and occupation affect their wife's contraceptive method choice?\n",
    "- What are the differences in contraceptive methods based on demographics and socioeconomic factors?\n",
    "- What combinations of factors are most likely to lead to certain choice of contraceptive method? (For example, low education and low standard of living.)\n",
    "\n",
    "The insights gained from this analysis could help improve family planning policies by identifying key socioeconomic barriers to contraceptive use.\n",
    "\n",
    "---"
   ]
  },
  {
   "cell_type": "markdown",
   "id": "8d84a455-a34b-4126-baeb-fa6a25b2d407",
   "metadata": {},
   "source": [
    "### <span style=\"color: hotpink\">The Data</span> \n",
    "The dataset is a subset of the 1987 National Indonesia Contraceptive Prevalence Survey. It consists of records of married women who were either not pregnant or were unsure of their pregnancy status at the time of the interview. The dataset contains 10 variables that capture demographic and socioeconomic characteristics of the women surveyed, including their age, education level, number of children, religious affiliation, employment status, and exposure to media.\n",
    "\n",
    "The target variable, contraceptive_method, has three categories: \n",
    "- 1 = No-use (The woman does not use any contraceptive method)\n",
    "- 2 = Long-term method (e.g., IUD, sterilization)\n",
    "- 3 = Short-term method (e.g., pill, condom, injection)\n",
    "  \n",
    "The categorical variables have already been encoded as numerical values, making it easier for machine learning models to process. A key aspect of this project will be understanding the relationships between these features and contraceptive choices through data visualization and classification modeling.\n",
    "\n",
    "---"
   ]
  },
  {
   "cell_type": "markdown",
   "id": "2cd4b789-06af-4cb3-86b4-2d93e7858fba",
   "metadata": {},
   "source": [
    "<span style=\"color: hotpink\">The dataset is not available as a csv or spreadsheet, so I will have to fetch it directly from the UCI repository."
   ]
  },
  {
   "cell_type": "code",
   "execution_count": 5,
   "id": "78978d92-742a-4b30-9d35-e695238ac565",
   "metadata": {},
   "outputs": [],
   "source": [
    "#pip install ucimlrepo"
   ]
  },
  {
   "cell_type": "code",
   "execution_count": 6,
   "id": "fbfddae9-2ced-42c3-ba29-9285fe21df78",
   "metadata": {},
   "outputs": [],
   "source": [
    "from ucimlrepo import fetch_ucirepo \n",
    "  \n",
    "# fetch dataset from UC Irvine Machine Learning Repository\n",
    "contraceptive_method_choice = fetch_ucirepo(id=30) \n",
    "  \n",
    "# data as pandas dataframes \n",
    "X = contraceptive_method_choice.data.features \n",
    "y = contraceptive_method_choice.data.targets \n"
   ]
  },
  {
   "cell_type": "markdown",
   "id": "7de1163b-12c4-411d-8891-061ad355dce9",
   "metadata": {},
   "source": [
    "<span style=\"color: hotpink\">Now I can work with it as a pandas dataframe."
   ]
  },
  {
   "cell_type": "code",
   "execution_count": 8,
   "id": "fea78235-b4c3-4981-a729-d7a1ea7a6138",
   "metadata": {},
   "outputs": [
    {
     "data": {
      "text/html": [
       "<div>\n",
       "<style scoped>\n",
       "    .dataframe tbody tr th:only-of-type {\n",
       "        vertical-align: middle;\n",
       "    }\n",
       "\n",
       "    .dataframe tbody tr th {\n",
       "        vertical-align: top;\n",
       "    }\n",
       "\n",
       "    .dataframe thead th {\n",
       "        text-align: right;\n",
       "    }\n",
       "</style>\n",
       "<table border=\"1\" class=\"dataframe\">\n",
       "  <thead>\n",
       "    <tr style=\"text-align: right;\">\n",
       "      <th></th>\n",
       "      <th>wife_age</th>\n",
       "      <th>wife_edu</th>\n",
       "      <th>husband_edu</th>\n",
       "      <th>num_children</th>\n",
       "      <th>wife_religion</th>\n",
       "      <th>wife_working</th>\n",
       "      <th>husband_occupation</th>\n",
       "      <th>standard_of_living_index</th>\n",
       "      <th>media_exposure</th>\n",
       "      <th>contraceptive_method</th>\n",
       "    </tr>\n",
       "  </thead>\n",
       "  <tbody>\n",
       "    <tr>\n",
       "      <th>0</th>\n",
       "      <td>24</td>\n",
       "      <td>2</td>\n",
       "      <td>3</td>\n",
       "      <td>3</td>\n",
       "      <td>1</td>\n",
       "      <td>1</td>\n",
       "      <td>2</td>\n",
       "      <td>3</td>\n",
       "      <td>0</td>\n",
       "      <td>1</td>\n",
       "    </tr>\n",
       "    <tr>\n",
       "      <th>1</th>\n",
       "      <td>45</td>\n",
       "      <td>1</td>\n",
       "      <td>3</td>\n",
       "      <td>10</td>\n",
       "      <td>1</td>\n",
       "      <td>1</td>\n",
       "      <td>3</td>\n",
       "      <td>4</td>\n",
       "      <td>0</td>\n",
       "      <td>1</td>\n",
       "    </tr>\n",
       "    <tr>\n",
       "      <th>2</th>\n",
       "      <td>43</td>\n",
       "      <td>2</td>\n",
       "      <td>3</td>\n",
       "      <td>7</td>\n",
       "      <td>1</td>\n",
       "      <td>1</td>\n",
       "      <td>3</td>\n",
       "      <td>4</td>\n",
       "      <td>0</td>\n",
       "      <td>1</td>\n",
       "    </tr>\n",
       "    <tr>\n",
       "      <th>3</th>\n",
       "      <td>42</td>\n",
       "      <td>3</td>\n",
       "      <td>2</td>\n",
       "      <td>9</td>\n",
       "      <td>1</td>\n",
       "      <td>1</td>\n",
       "      <td>3</td>\n",
       "      <td>3</td>\n",
       "      <td>0</td>\n",
       "      <td>1</td>\n",
       "    </tr>\n",
       "    <tr>\n",
       "      <th>4</th>\n",
       "      <td>36</td>\n",
       "      <td>3</td>\n",
       "      <td>3</td>\n",
       "      <td>8</td>\n",
       "      <td>1</td>\n",
       "      <td>1</td>\n",
       "      <td>3</td>\n",
       "      <td>2</td>\n",
       "      <td>0</td>\n",
       "      <td>1</td>\n",
       "    </tr>\n",
       "  </tbody>\n",
       "</table>\n",
       "</div>"
      ],
      "text/plain": [
       "   wife_age  wife_edu  husband_edu  num_children  wife_religion  wife_working  \\\n",
       "0        24         2            3             3              1             1   \n",
       "1        45         1            3            10              1             1   \n",
       "2        43         2            3             7              1             1   \n",
       "3        42         3            2             9              1             1   \n",
       "4        36         3            3             8              1             1   \n",
       "\n",
       "   husband_occupation  standard_of_living_index  media_exposure  \\\n",
       "0                   2                         3               0   \n",
       "1                   3                         4               0   \n",
       "2                   3                         4               0   \n",
       "3                   3                         3               0   \n",
       "4                   3                         2               0   \n",
       "\n",
       "   contraceptive_method  \n",
       "0                     1  \n",
       "1                     1  \n",
       "2                     1  \n",
       "3                     1  \n",
       "4                     1  "
      ]
     },
     "execution_count": 8,
     "metadata": {},
     "output_type": "execute_result"
    }
   ],
   "source": [
    "import pandas as pd\n",
    "\n",
    "df = pd.concat([X, y], axis=1)\n",
    "\n",
    "df.head()"
   ]
  },
  {
   "cell_type": "code",
   "execution_count": 9,
   "id": "f28b4222-41b8-4d41-8a51-56d3292b7e0c",
   "metadata": {},
   "outputs": [
    {
     "data": {
      "text/plain": [
       "(1473, 10)"
      ]
     },
     "execution_count": 9,
     "metadata": {},
     "output_type": "execute_result"
    }
   ],
   "source": [
    "df.shape"
   ]
  },
  {
   "cell_type": "code",
   "execution_count": 10,
   "id": "282cd25d-81d0-40ba-b71f-3bfb10247519",
   "metadata": {},
   "outputs": [
    {
     "data": {
      "text/plain": [
       "Index(['wife_age', 'wife_edu', 'husband_edu', 'num_children', 'wife_religion',\n",
       "       'wife_working', 'husband_occupation', 'standard_of_living_index',\n",
       "       'media_exposure', 'contraceptive_method'],\n",
       "      dtype='object')"
      ]
     },
     "execution_count": 10,
     "metadata": {},
     "output_type": "execute_result"
    }
   ],
   "source": [
    "df.columns"
   ]
  },
  {
   "cell_type": "markdown",
   "id": "23eae0ba-3bc3-4a1e-a48e-62dd26a2f529",
   "metadata": {},
   "source": [
    "<span style=\"color: hotpink\">I'm going ahead and creating lists storing the categorical and numerical columns separately for when I visualize them later on."
   ]
  },
  {
   "cell_type": "code",
   "execution_count": 12,
   "id": "53c473fd-d8ce-4f92-9c80-953872a567e3",
   "metadata": {},
   "outputs": [],
   "source": [
    "cat_cols = ['wife_edu', 'husband_edu', 'wife_religion', 'wife_working', \n",
    "            'husband_occupation', 'standard_of_living_index', 'media_exposure',  \n",
    "            'contraceptive_method']\n",
    "\n",
    "num_cols = ['wife_age', 'num_children']"
   ]
  },
  {
   "cell_type": "markdown",
   "id": "7d1302bc-fbe4-4250-8e67-c45c12a5e653",
   "metadata": {},
   "source": [
    "<span style=\"color: hotpink\">The dataset information on the UCI site says there are no missing values but I am going to check just in case. I'll also confirm that the data types are all integers, and that the categorical columns only contain the expected values (0-4)."
   ]
  },
  {
   "cell_type": "code",
   "execution_count": 14,
   "id": "ea606506-5ed5-4098-a22f-db74d05fd2a7",
   "metadata": {},
   "outputs": [
    {
     "data": {
      "text/p